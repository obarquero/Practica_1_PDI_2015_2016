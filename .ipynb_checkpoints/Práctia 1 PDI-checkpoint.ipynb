{
 "metadata": {
  "name": ""
 },
 "nbformat": 3,
 "nbformat_minor": 0,
 "worksheets": [
  {
   "cells": [
    {
     "cell_type": "heading",
     "level": 1,
     "metadata": {},
     "source": [
      "Pr\u00e1ctica Bloque I -- Procesamiento Digital de la Informaci\u00f3n (PDI) - GITT (URJC) 2015/2016"
     ]
    },
    {
     "cell_type": "heading",
     "level": 3,
     "metadata": {},
     "source": [
      "Introducci\u00f3n a Statistical Learning"
     ]
    },
    {
     "cell_type": "markdown",
     "metadata": {},
     "source": [
      "##Authors\n",
      "\n",
      "###\u00d3scar Barquero P\u00e9rez (<oscar.barquero@urjc.es>) y Rebeca Goya Esteban (<rebeca.goyaesteban@urjc.es>)\n",
      "\n",
      "###Date 11th october 2015\n",
      "\n",
      "<a rel=\"license\" href=\"http://creativecommons.org/licenses/by-nc-sa/4.0/\"><img alt=\"Licencia de Creative Commons\" style=\"border-width:0\" src=\"https://i.creativecommons.org/l/by-nc-sa/4.0/88x31.png\" /></a><br />Este obra est\u00e1 bajo una <a rel=\"license\" href=\"http://creativecommons.org/licenses/by-nc-sa/4.0/\">licencia de Creative Commons Reconocimiento-NoComercial-CompartirIgual 4.0 Internacional</a>. "
     ]
    },
    {
     "cell_type": "heading",
     "level": 2,
     "metadata": {},
     "source": [
      "Introducci\u00f3n "
     ]
    },
    {
     "cell_type": "markdown",
     "metadata": {},
     "source": [
      "En esta pr\u00e1ctica se introducen los conceptos b\u00e1sicos para el desarrollo de una aplicaci\u00f3n muy sencilla de statistical learning utilizando el m\u00f3dulo **sklearn** de Python.\n",
      "\n",
      "Sklearn es un m\u00f3dulo de Python que, seg\u00fan su propia definici\u00f3n es:\n",
      "* Simple and efficient tools for data mining and data analysis\n",
      "* Accessible to everybody, and reusable in various contexts\n",
      "* Built on NumPy, SciPy, and matplotlib\n",
      "* Open source, commercially usable - BSD license\n",
      "\n",
      "La direcci\u00f3n de la p\u00e1gina de sklearn es [sklearn]: http://scikit-learn.org/stable/ \n",
      "\n",
      "La p\u00e1gina de sklearn es un recurso increible para el aprendizaje de los m\u00e9todos de statistical learning utlizando un aprendizaje basado en ejemplos, mediante la utilizaci\u00f3n de Python. Recomiendo encarecidamente a los alumnos interesados en este tema que aprovechen toda la documentaci\u00f3n de esta p\u00e1gina.\n",
      "\n",
      "El obejitvo de la pr\u00e1ctica es que el alumno se familiarice con uno de los m\u00e9todos de statistical learning m\u00e1s simples: **Regresi\u00f3n Lineal** para la predicci\u00f3n de tr\u00e1fico web. Durante la pr\u00e1ctica el alumno deber\u00e1 elegir que modelo de regresi\u00f3n lineal utilizar, en concreto el grado del polinomio, para conseguir las mejores prestaciones de predicci\u00f3n. Para ello, se har\u00e1 enf\u00e1sis en los conceptos de *overfitting*, *generalization*, *training error*, *test error*, y las t\u00e9cnicas usuales para tratar con estos conceptos, como, *training/test set*, *cross-validation*, *learning curves*.\n",
      "\n",
      "Proponemos en esta pr\u00e1ctica un "
     ]
    },
    {
     "cell_type": "code",
     "collapsed": false,
     "input": [
      "import numpy as np\n",
      "import matplotlib.pylab as plt\n",
      "\n",
      "x = np.linspace(0,10,1000)\n",
      "y = np.sin(2*np.pi*0.5*x)\n",
      "plt.plot(x,y)\n",
      "plt.show()"
     ],
     "language": "python",
     "metadata": {},
     "outputs": []
    }
   ],
   "metadata": {}
  }
 ]
}