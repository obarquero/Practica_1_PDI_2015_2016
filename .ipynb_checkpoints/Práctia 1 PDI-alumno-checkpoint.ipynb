{
 "cells": [
  {
   "cell_type": "markdown",
   "metadata": {},
   "source": [
    "# Práctica Bloque I -- Procesamiento Digital de la Información (PDI) - GITT (URJC) 2015/2016"
   ]
  },
  {
   "cell_type": "markdown",
   "metadata": {},
   "source": [
    "### Introducción a Statistical Learning"
   ]
  },
  {
   "cell_type": "markdown",
   "metadata": {},
   "source": [
    "## Authors\n",
    "\n",
    "### Óscar Barquero Pérez (<oscar.barquero@urjc.es>) y Rebeca Goya Esteban (<rebeca.goyaesteban@urjc.es>)\n",
    "\n",
    "### Date 11th october 2015\n",
    "\n",
    "<a rel=\"license\" href=\"http://creativecommons.org/licenses/by-nc-sa/4.0/\"><img alt=\"Licencia de Creative Commons\" style=\"border-width:0\" src=\"https://i.creativecommons.org/l/by-nc-sa/4.0/88x31.png\" /></a><br />Este obra está bajo una <a rel=\"license\" href=\"http://creativecommons.org/licenses/by-nc-sa/4.0/\">licencia de Creative Commons Reconocimiento-NoComercial-CompartirIgual 4.0 Internacional</a>. "
   ]
  },
  {
   "cell_type": "markdown",
   "metadata": {},
   "source": [
    "## Introducción "
   ]
  },
  {
   "cell_type": "markdown",
   "metadata": {},
   "source": [
    "En esta práctica se introducen los conceptos básicos para el desarrollo de una aplicación muy sencilla de statistical learning utilizando el módulo **sklearn** de Python.\n",
    "\n",
    "Sklearn es un módulo de Python que, según su propia definición es:\n",
    "* Simple and efficient tools for data mining and data analysis\n",
    "* Accessible to everybody, and reusable in various contexts\n",
    "* Built on NumPy, SciPy, and matplotlib\n",
    "* Open source, commercially usable - BSD license\n",
    "\n",
    "La dirección de la página de sklearn es [sklearn]: http://scikit-learn.org/stable/ \n",
    "\n",
    "La página de sklearn es un recurso increible para el aprendizaje de los métodos de statistical learning utlizando un aprendizaje basado en ejemplos, mediante la utilización de Python. Recomiendo encarecidamente a los alumnos interesados en este tema que aprovechen toda la documentación de esta página.\n",
    "\n",
    "El obejitvo de la práctica es que el alumno se familiarice con uno de los métodos de statistical learning más simples: **Regresión Lineal** para la predicción de tráfico web. Durante la práctica el alumno deberá elegir que modelo de regresión lineal utilizar, en concreto el grado del polinomio, para conseguir las mejores prestaciones de predicción. Para ello, se hará enfásis en los conceptos de *overfitting*, *generalization*, *training error*, *test error*, y las técnicas usuales para tratar con estos conceptos, como, *training/test set*, *cross-validation*, *learning curves*.\n",
    "\n",
    "En esta práctica proponemos una competición al estilo de Kaggle (https://inclass.kaggle.com/), que es una plataforma en la que se establecen competiciones con datos de compañías que quieren resolver un problemad de datos. Los participantes proponen un modelo de análisis de datos y se establece un ranking de los mejores modelos.\n",
    "\n",
    "A continuación se detalla la estructura del guión de prácticas:\n",
    "   1. Datos: en esta sección se describen los datos que se utilizarán para la práctica.\n",
    "   2. Regresión Lineal: en esta sección se hace una breve descripción del modelo de statistical learning que se utilizará en la práctica, así un ejemplo sintético para apreciar los detalles de implementación.\n",
    "   3. Overfitting & Generalization: en esta sección se describen brevemente los conceptos de overfitting y generalización y como puede afecta a la capacidad de predicción de nuestro modelo.\n",
    "   4. Cómo evitar el overfitting: en esta sección se enumeran algunas técnicas para realizar la selección final del modelo evitando el fenómeno de overfitting."
   ]
  },
  {
   "cell_type": "markdown",
   "metadata": {},
   "source": [
    "## Datos"
   ]
  },
  {
   "cell_type": "markdown",
   "metadata": {},
   "source": [
    "Los datos que se utilizarán en la práctica corresponden al tráfico web en un determinado servidor de una compañía que ofrece un servicio de Machine Learning via HTTP. La compañía está consiguiendo un gran éxito, lo que acarrea una mayor demanda web de sus servidores. La contrapartida es que la infraestructura del servidor comienza a estar sobrecargada, por lo que la compañía necesita saber cúando será necesario invertir en una nueva infraestructura.\n",
    "\n",
    "El límite de la infraestructura actual se estima en 100000 request por hora. El objetivo es, con los datos pasados del número de peticiones por hora del servidor, predecir cuándo se llegará a ese límite.\n",
    "\n",
    "En concreto, el alumno tiene un objetivo doble:\n",
    "    1. Predecir la fecha en la el servidor recibirá 100000 peticiones por hora.\n",
    "    2. Estimar el error que comete su modelo en unos datos de test. Este conjunto de test no se proporciona a los alumnos, y únicamente está en posesión de los profesores. Los alumnos subirán un código con el modelo propuesto, que se utilizará para analizar las prestaciones.\n",
    "    \n",
    "Los datos se encuentran en formato \".tsv\"\n",
    "<img src=\"./data.png\">\n",
    "\n",
    "Donde la primera columna representa el número de horas y la segunda columna el número de peticiones al servidor en esa hora.\n",
    "\n",
    "El primer paso de la práctica implica leer los datos que se encuentran en el archivo de texto y que se almacenarán en vectores de Python. Esto se lleva a cabo en la siguiente líneas de código"
   ]
  },
  {
   "cell_type": "code",
   "execution_count": 5,
   "metadata": {
    "collapsed": false
   },
   "outputs": [
    {
     "name": "stdout",
     "output_type": "stream",
     "text": [
      "[[  1.00000000e+00   2.27200000e+03]\n",
      " [  2.00000000e+00              nan]\n",
      " [  3.00000000e+00   1.38600000e+03]\n",
      " ..., \n",
      " [  7.41000000e+02   5.39200000e+03]\n",
      " [  7.42000000e+02   5.90600000e+03]\n",
      " [  7.43000000e+02   4.88100000e+03]]\n"
     ]
    },
    {
     "data": {
      "text/plain": [
       "(743, 2)"
      ]
     },
     "execution_count": 5,
     "metadata": {},
     "output_type": "execute_result"
    }
   ],
   "source": [
    "import numpy as np\n",
    "\n",
    "data = np.genfromtxt(\"web_traffic.tsv\",delimiter = '\\t')\n",
    "\n",
    "#imprimimos las primeras posiciones de los datos para verifica que hemos leído bien los datos\n",
    "\n",
    "print(data[:])\n",
    "\n",
    "#Verificamos las dimensiones del vector\n",
    "\n",
    "data.shape"
   ]
  },
  {
   "cell_type": "markdown",
   "metadata": {},
   "source": [
    "### Ejercicio 1 -- Preprocesado de los datos\n",
    "\n",
    "Una de las primeras tareas es preprocesar los datos. En este caso concreto, la primera tarea es eliminar los nan (Not a Number) de los vectores. \n",
    "\n",
    "El alumno deberá buscar en la ayuda de Numpy (módulo para numerical Python http://www.numpy.org/) la forma de eliminar los nan de la matriz de datos. Al final de este apartado el alumno debe tener dos vectores de dimensiones 724x1, uno de ellos que llamaremos x, contendrá el eje de tiempos; y otro vector llamado y que contendrá el número de peticiones del servidor."
   ]
  },
  {
   "cell_type": "code",
   "execution_count": 1,
   "metadata": {
    "collapsed": false,
    "scrolled": true
   },
   "outputs": [],
   "source": [
    "#El alumno debe completar aquí su código para eliminar los nan y separar la matriz de datos en dos vectores x e y \n",
    "\n",
    "#x = ...\n",
    "#y = ..."
   ]
  },
  {
   "cell_type": "code",
   "execution_count": null,
   "metadata": {
    "collapsed": true
   },
   "outputs": [],
   "source": []
  }
 ],
 "metadata": {
  "kernelspec": {
   "display_name": "Python 2",
   "language": "python",
   "name": "python2"
  },
  "language_info": {
   "codemirror_mode": {
    "name": "ipython",
    "version": 2
   },
   "file_extension": ".py",
   "mimetype": "text/x-python",
   "name": "python",
   "nbconvert_exporter": "python",
   "pygments_lexer": "ipython2",
   "version": "2.7.10"
  }
 },
 "nbformat": 4,
 "nbformat_minor": 0
}
