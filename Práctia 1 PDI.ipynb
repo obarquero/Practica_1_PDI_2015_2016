{
 "metadata": {
  "name": ""
 },
 "nbformat": 3,
 "nbformat_minor": 0,
 "worksheets": [
  {
   "cells": [
    {
     "cell_type": "heading",
     "level": 1,
     "metadata": {},
     "source": [
      "Pr\u00e1ctica Bloque I -- Procesamiento Digital de la Informaci\u00f3n (PDI) - GITT (URJC) 2015/2016"
     ]
    },
    {
     "cell_type": "heading",
     "level": 3,
     "metadata": {},
     "source": [
      "Introducci\u00f3n a Statistical Learning"
     ]
    },
    {
     "cell_type": "markdown",
     "metadata": {},
     "source": [
      "##Authors\n",
      "\n",
      "###\u00d3scar Barquero P\u00e9rez (<oscar.barquero@urjc.es>) y Rebeca Goya Esteban (<rebeca.goyaesteban@urjc.es>)\n",
      "\n",
      "###Date 11th october 2015\n",
      "\n",
      "<a rel=\"license\" href=\"http://creativecommons.org/licenses/by-nc-sa/4.0/\"><img alt=\"Licencia de Creative Commons\" style=\"border-width:0\" src=\"https://i.creativecommons.org/l/by-nc-sa/4.0/88x31.png\" /></a><br />Este obra est\u00e1 bajo una <a rel=\"license\" href=\"http://creativecommons.org/licenses/by-nc-sa/4.0/\">licencia de Creative Commons Reconocimiento-NoComercial-CompartirIgual 4.0 Internacional</a>. "
     ]
    },
    {
     "cell_type": "heading",
     "level": 2,
     "metadata": {},
     "source": [
      "Introducci\u00f3n "
     ]
    },
    {
     "cell_type": "markdown",
     "metadata": {},
     "source": [
      "En esta pr\u00e1ctica se introducen los conceptos b\u00e1sicos para el desarrollo de una aplicaci\u00f3n muy sencilla de statistical learning utilizando el m\u00f3dulo **sklearn** de Python.\n",
      "\n"
     ]
    },
    {
     "cell_type": "code",
     "collapsed": false,
     "input": [
      "import numpy as np\n",
      "import matplotlib.pylab as plt\n",
      "\n",
      "x = np.linspace(0,10,1000)\n",
      "y = np.sin(2*np.pi*0.5*x)\n",
      "plt.plot(x,y)\n",
      "plt.show()"
     ],
     "language": "python",
     "metadata": {},
     "outputs": []
    }
   ],
   "metadata": {}
  }
 ]
}