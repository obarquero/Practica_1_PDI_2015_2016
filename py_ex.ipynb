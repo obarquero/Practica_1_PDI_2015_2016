{
 "metadata": {
  "name": ""
 },
 "nbformat": 3,
 "nbformat_minor": 0,
 "worksheets": [
  {
   "cells": [
    {
     "cell_type": "heading",
     "level": 1,
     "metadata": {},
     "source": [
      "Ejemplo 3 del bolet\u00edn de ejercicios"
     ]
    },
    {
     "cell_type": "heading",
     "level": 2,
     "metadata": {},
     "source": [
      "Procesamiento Digital de la Informaci\u00f3n / Procesamiento de Se\u00f1ales / Tratamiento Digital de la Informaci\u00f3n"
     ]
    },
    {
     "cell_type": "markdown",
     "metadata": {},
     "source": [
      "##Authors\n",
      "\n",
      "###\u00d3scar Barquero P\u00e9rez (<oscar.barquero@urjc.es>) y Rebeca Goya Esteban (<rebeca.goyaesteban@urjc.es>)\n",
      "\n",
      "###Date 1st october 2014\n",
      "\n",
      "<a rel=\"license\" href=\"http://creativecommons.org/licenses/by-nc-sa/4.0/\"><img alt=\"Licencia de Creative Commons\" style=\"border-width:0\" src=\"https://i.creativecommons.org/l/by-nc-sa/4.0/88x31.png\" /></a><br />Este obra est\u00e1 bajo una <a rel=\"license\" href=\"http://creativecommons.org/licenses/by-nc-sa/4.0/\">licencia de Creative Commons Reconocimiento-NoComercial-CompartirIgual 4.0 Internacional</a>. "
     ]
    },
    {
     "cell_type": "markdown",
     "metadata": {},
     "source": [
      "A random variable $x$ following a Gaussian pdf $G(m,v)$ is going to be sampled $K$ times. \n",
      "\n",
      "We propose to analyze how change the distribution of the mean estimator $$\\hat{m} = \\frac{1}{K}\\sum^{K}_{k= 1} x_k$$\n",
      "\n",
      "Let be $G(m = 0.7, v = 1.5)$. So we are going to sample this distribution with different number of samples, namely: $K_1 = 10, K_2 = 40,\\ K_3 = 100,\\ K_4 = 1000,\\ K_5 = 10000$.\n",
      "\n",
      "To obatain $E[\\hat{m}]$ and $Var[\\hat{m}]$ we are going to repeat the sampling procedure a number of times, say 1000. From that we can compute the histogram and estimations of $E[\\hat{m}]$ and $Var[\\hat{m}]$. This is called a Monte Carlo procedure. So let's begin"
     ]
    },
    {
     "cell_type": "code",
     "collapsed": false,
     "input": [
      "import numpy as np\n",
      "import matplotlib.pylab as plt\n",
      "\n",
      "#number of samples in the sampling procedure\n",
      "k = 10\n",
      "\n",
      "#Gaussian parameters\n",
      "mu = 0.7\n",
      "sigma_2 = 1.5\n",
      "\n",
      "mu_hat = np.zeros((1000))\n",
      "\n",
      "#Monte carlo procedure\n",
      "\n",
      "for m in range(1000):\n",
      "    \n",
      "    #Sampling\n",
      "    x_k = np.sqrt(sigma_2)*np.random.randn(1,k) + mu\n",
      "    \n",
      "    #estimation for this iteration\n",
      "    \n",
      "    mu_hat[m] = np.mean(x_k)\n",
      "    \n",
      "    \n",
      "#Lets make some plots\n",
      "print 'Mean of mu_hat = ' + str(np.mean(mu_hat))\n",
      "print 'Variance of mu_hat = ' + str(np.var(mu_hat))\n",
      "plt.hist(mu_hat)\n",
      "plt.title('Histogram of r.v. sample mean with k = ' + str(k))\n",
      "plt.xlim([-0.5,2.5])\n",
      "plt.ylim([0,300])\n",
      "    "
     ],
     "language": "python",
     "metadata": {},
     "outputs": [
      {
       "output_type": "stream",
       "stream": "stdout",
       "text": [
        "Mean of mu_hat = 0.704667185784\n",
        "Variance of mu_hat = 0.155006417648\n"
       ]
      },
      {
       "metadata": {},
       "output_type": "pyout",
       "prompt_number": 1,
       "text": [
        "(0, 300)"
       ]
      },
      {
       "metadata": {},
       "output_type": "display_data",
       "png": "[encoded data removed]",
       "text": [
        "<matplotlib.figure.Figure at 0x10b2bd590>"
       ]
      }
     ],
     "prompt_number": 1
    },
    {
     "cell_type": "markdown",
     "metadata": {},
     "source": [
      "Let's repeat the procedure for different value of $k$, in this case $k = 10000$."
     ]
    },
    {
     "cell_type": "code",
     "collapsed": false,
     "input": [
      "#number of samples in the sampling procedure\n",
      "k = 10000\n",
      "\n",
      "#Gaussian parameters\n",
      "mu = 0.7\n",
      "sigma_2 = 1.5\n",
      "\n",
      "mu_hat = np.zeros((1000))\n",
      "\n",
      "#Monte carlo procedure\n",
      "\n",
      "for m in range(1000):\n",
      "    \n",
      "    #Sampling\n",
      "    x_k = np.sqrt(sigma_2)*np.random.randn(1,k) + mu\n",
      "    \n",
      "    #estimation for this iteration\n",
      "    \n",
      "    mu_hat[m] = np.mean(x_k)\n",
      "    \n",
      "    \n",
      "#Lets make some plots\n",
      "print 'Mean of mu_hat = ' + str(np.mean(mu_hat))\n",
      "print 'Variance of mu_hat = ' + str(np.var(mu_hat))\n",
      "plt.hist(mu_hat)\n",
      "plt.title('Histogram of r.v. sample mean with k = ' + str(k))\n",
      "plt.xlim([-0.5,2.5])\n",
      "plt.ylim([0,300])\n",
      "    "
     ],
     "language": "python",
     "metadata": {},
     "outputs": [
      {
       "output_type": "stream",
       "stream": "stdout",
       "text": [
        "Mean of mu_hat = 0.699504319414\n",
        "Variance of mu_hat = 0.000141666808093\n"
       ]
      },
      {
       "metadata": {},
       "output_type": "pyout",
       "prompt_number": 2,
       "text": [
        "(0, 300)"
       ]
      },
      {
       "metadata": {},
       "output_type": "display_data",
       "png": "[encoded data removed]",
       "text": [
        "<matplotlib.figure.Figure at 0x10b82c6d0>"
       ]
      }
     ],
     "prompt_number": 2
    },
    {
     "cell_type": "markdown",
     "metadata": {},
     "source": [
      "**Analysis of results**\n",
      "\n",
      "So according to these simulations, we can conclude that the estimator of the mean $\\hat{m}$ is *unbiased* and that is a *consistent estimator*. Even more, according to the results, is seems that the variance of the estimator is reduced by ten when the number of data is increased by ten. So far, so good."
     ]
    },
    {
     "cell_type": "heading",
     "level": 2,
     "metadata": {},
     "source": [
      "Analytic derivation"
     ]
    },
    {
     "cell_type": "markdown",
     "metadata": {},
     "source": [
      "So let's do the math, and verfy if the simulations are in agreement with the math.\n",
      "\n",
      "Let's first compute the expectation of the estimator $\\hat{m}$:\n",
      "\n",
      "$$E[\\hat{m}] = E\\left[\\frac{1}{K}\\sum^{K}_{k=1}x^{(k)}\\right]$$\n",
      "\n",
      "The expectation is a linear operator, so:\n",
      "\n",
      "$$E\\left[\\frac{1}{K}\\sum^{K}_{k=1}x^{(k)}\\right] = \\frac{1}{K}\\sum^{K}_{k=1}E\\left[x^{(k)}\\right]$$\n",
      "\n",
      "Please, *remember not kill a mathematician* when changing the $\\sum$ and $E$.\n",
      "\n",
      "But now, we know the expectation of $x$, which is $\\mu$, the real mean of the Gaussian. So.\n",
      "\n",
      "$$E[\\hat{m}] = \\frac{K}{K}\\mu = \\mu$$\n",
      "\n",
      "Therefore, the estimator is **unbiased**.\n",
      "\n",
      "Much of the same to compute the variance\n",
      "\n",
      "$$Var[\\hat{m}] = Var\\left[\\frac{1}{K}\\sum^{K}_{k=1}x^{(k)}\\right]$$\n",
      "\n",
      "But, in this case, constants get out squared, and if samples are independents, we can say tha the variance of the sum is the sum of the variances:\n",
      "\n",
      "$$Var\\left[\\frac{1}{K}\\sum^{K}_{k=1}x^{(k)}\\right] = \\frac{1}{K^2}\\sum^{K}_{k=1}Var\\left[x^{(k)}\\right]$$\n",
      "\n",
      "Sure we know the variance of $x$, which is $v$. So:\n",
      "\n",
      "$$Var[\\hat{m}] = \\frac{K}{K^2}v = \\frac{v}{K}$$\n",
      "\n",
      "This results agrees with our simulations. **Math works**\n",
      "\n"
     ]
    },
    {
     "cell_type": "code",
     "collapsed": false,
     "input": [],
     "language": "python",
     "metadata": {},
     "outputs": []
    }
   ],
   "metadata": {}
  }
 ]
}
